{
 "cells": [
  {
   "cell_type": "code",
   "execution_count": 1,
   "metadata": {},
   "outputs": [],
   "source": [
    "import matplotlib.pyplot as plt\n",
    "import numpy as np"
   ]
  },
  {
   "cell_type": "code",
   "execution_count": 111,
   "metadata": {},
   "outputs": [],
   "source": [
    "class Node:\n",
    "    def __init__(self) -> None:\n",
    "        self.preds = set()\n",
    "        self.succs = set()\n",
    "    \n",
    "    @property\n",
    "    def degree(self):\n",
    "        return len(self.succs)# + len(self.preds) \n",
    "    \n",
    "\n",
    "class Graph:\n",
    "    def __init__(self, n) -> None:\n",
    "        self.nodes = {i: Node() for i in range(n)}\n",
    "    \n",
    "    def add_edge(self, pred, succ):\n",
    "        p = self.nodes[pred]\n",
    "        s = self.nodes[succ]\n",
    "        p.succs.add(succ)\n",
    "        s.preds.add(pred)\n",
    "    \n",
    "    def remove_node(self, v):\n",
    "        node = self.nodes[v]\n",
    "        preds = node.preds\n",
    "        succs = node.succs\n",
    "\n",
    "        for p in preds:\n",
    "            pred = self.nodes[p]\n",
    "            pred.succs.remove(v)\n",
    "            \n",
    "        for s in succs:\n",
    "            succ = self.nodes[s]\n",
    "            succ.preds.remove(v)\n",
    "            \n",
    "        for p in preds:\n",
    "            pred = self.nodes[p]\n",
    "            for s in succs:\n",
    "                if p == s:\n",
    "                    continue\n",
    "                succ = self.nodes[s]\n",
    "                pred.succs.add(s)\n",
    "                succ.preds.add(p)\n",
    "        \n",
    "        self.nodes.pop(v)\n",
    "        \n",
    "    def get_lowest_degree(self):\n",
    "        e, best = None, int(1e6)\n",
    "        for v, node in self.nodes.items():\n",
    "            degree = node.degree\n",
    "            if degree < best:\n",
    "                e = v\n",
    "                best = degree\n",
    "        return e\n",
    "    \n",
    "    \n",
    "    def to_dot(self):\n",
    "        dot = 'digraph {\\n'\n",
    "        dot += '\\n'.join([\n",
    "            f'\\t{v} -> {str(node.succs) if node.succs else \"{}\"}' for v, node in self.nodes.items()\n",
    "        ])\n",
    "        dot += '\\n}'\n",
    "        return dot\n",
    "            \n",
    "    @staticmethod\n",
    "    def FromMatrix(A, epsilon=1e-6):\n",
    "        rows, cols = A.shape\n",
    "        graph = Graph(max(rows, cols))\n",
    "        for row in range(rows):\n",
    "            for col in range(cols):\n",
    "                if row != col and abs(A[row][col]) > epsilon:\n",
    "                    graph.add_edge(row, col)\n",
    "        return graph"
   ]
  },
  {
   "cell_type": "code",
   "execution_count": 106,
   "metadata": {},
   "outputs": [],
   "source": [
    "n = 200\n",
    "A = np.eye(n, n)\n",
    "B = np.random.rand(n, n)\n",
    "B[B > 0.05] = 0\n",
    "A[0, :] = 1\n",
    "A[:, 0] = 1\n",
    "A += B"
   ]
  },
  {
   "cell_type": "code",
   "execution_count": 107,
   "metadata": {},
   "outputs": [
    {
     "data": {
      "text/plain": [
       "<matplotlib.image.AxesImage at 0x25338295e10>"
      ]
     },
     "execution_count": 107,
     "metadata": {},
     "output_type": "execute_result"
    },
    {
     "data": {
      "image/png": "[encoded data removed]",
      "text/plain": [
       "<Figure size 432x288 with 1 Axes>"
      ]
     },
     "metadata": {
      "needs_background": "light"
     },
     "output_type": "display_data"
    }
   ],
   "source": [
    "plt.spy(A)\n"
   ]
  },
  {
   "cell_type": "code",
   "execution_count": 112,
   "metadata": {},
   "outputs": [],
   "source": [
    "def reorder(A):\n",
    "    A_copy = A.copy()\n",
    "    graph = Graph.FromMatrix(A)\n",
    "    dot = graph.to_dot()\n",
    "    rows = A.shape[0]\n",
    "    ordering = list(range(rows))\n",
    "    for row in range(rows):\n",
    "        v = graph.get_lowest_degree()\n",
    "        best_row = ordering.index(v)\n",
    "        ordering[row], ordering[best_row] = ordering[best_row], ordering[row]\n",
    "        A_copy[[row, best_row], :] = A_copy[[best_row, row], :]\n",
    "        graph.remove_node(v)\n",
    "    return A_copy, dot"
   ]
  },
  {
   "cell_type": "code",
   "execution_count": 113,
   "metadata": {},
   "outputs": [],
   "source": [
    "ordered_A, dot = reorder(A)"
   ]
  },
  {
   "cell_type": "code",
   "execution_count": 114,
   "metadata": {},
   "outputs": [
    {
     "data": {
      "text/plain": [
       "<matplotlib.image.AxesImage at 0x2533836c910>"
      ]
     },
     "execution_count": 114,
     "metadata": {},
     "output_type": "execute_result"
    },
    {
     "data": {
      "image/png": "[encoded data removed]",
      "text/plain": [
       "<Figure size 432x288 with 1 Axes>"
      ]
     },
     "metadata": {
      "needs_background": "light"
     },
     "output_type": "display_data"
    }
   ],
   "source": [
    "plt.spy(ordered_A)"
   ]
  },
  {
   "cell_type": "code",
   "execution_count": null,
   "metadata": {},
   "outputs": [],
   "source": []
  }
 ],
 "metadata": {
  "interpreter": {
   "hash": "89c08ee6164bbf7a01ff4c5b32c36fd2bed1728df3e21dc490241d71b95ede77"
  },
  "kernelspec": {
   "display_name": "Python 3.10.0 64-bit ('mat-lab': conda)",
   "language": "python",
   "name": "python3"
  },
  "language_info": {
   "codemirror_mode": {
    "name": "ipython",
    "version": 3
   },
   "file_extension": ".py",
   "mimetype": "text/x-python",
   "name": "python",
   "nbconvert_exporter": "python",
   "pygments_lexer": "ipython3",
   "version": "3.10.0"
  },
  "orig_nbformat": 4
 },
 "nbformat": 4,
 "nbformat_minor": 2
}
