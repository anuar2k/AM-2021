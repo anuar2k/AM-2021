{
 "cells": [
  {
   "cell_type": "code",
   "execution_count": 1,
   "metadata": {},
   "outputs": [],
   "source": [
    "import numpy as np\n",
    "import matplotlib.pyplot as plt\n",
    "import pandas as pd"
   ]
  },
  {
   "cell_type": "code",
   "execution_count": 2,
   "metadata": {},
   "outputs": [],
   "source": [
    "def load_base_matrix():  \n",
    "    return np.genfromtxt('matrices/riga49.csv', delimiter=',')\n",
    "    \n",
    "    \n",
    "def generate_matrix(q):\n",
    "    t = load_base_matrix()\n",
    "    return np.block([[t] * q] * q)"
   ]
  },
  {
   "cell_type": "code",
   "execution_count": 5,
   "metadata": {},
   "outputs": [],
   "source": [
    "q = 2**5\n",
    "base_matrix = generate_matrix(q)\n"
   ]
  },
  {
   "cell_type": "code",
   "execution_count": null,
   "metadata": {},
   "outputs": [],
   "source": []
  }
 ],
 "metadata": {
  "interpreter": {
   "hash": "89c08ee6164bbf7a01ff4c5b32c36fd2bed1728df3e21dc490241d71b95ede77"
  },
  "kernelspec": {
   "display_name": "Python 3.10.0 64-bit ('mat-lab': conda)",
   "language": "python",
   "name": "python3"
  },
  "language_info": {
   "codemirror_mode": {
    "name": "ipython",
    "version": 3
   },
   "file_extension": ".py",
   "mimetype": "text/x-python",
   "name": "python",
   "nbconvert_exporter": "python",
   "pygments_lexer": "ipython3",
   "version": "3.10.0"
  },
  "orig_nbformat": 4
 },
 "nbformat": 4,
 "nbformat_minor": 2
}
