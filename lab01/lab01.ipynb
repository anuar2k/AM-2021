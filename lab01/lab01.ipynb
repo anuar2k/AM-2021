{
 "cells": [
  {
   "cell_type": "markdown",
   "metadata": {},
   "source": [
    "# Algorytmy Macierzowe\n",
    "## Zadanie 1: Mnożenie macierzy\n",
    "## Autorzy: Jan Izydorczyk, Aleksander Wójtowicz"
   ]
  },
  {
   "cell_type": "markdown",
   "metadata": {},
   "source": [
    "# Cel zadania\n",
    "Celem zadania było wykonanie eksperymentu polegającego na przetestowaniu różnych sposobów mnożenia macierzy. Sposoby te są wariacjami na tradycyjnego mnożenia macierzy, jednakże różnią się one kolejnością pętli, podczas mnożenia. Implikują one różne sposoby wgrywania danych z pamięci operacyjnej do pamięci podręcznej procesora (różne wycinki danych). Dodatkowo przetestowaliśmy mnożenie macierzy z użyciem podziału na bloki. "
   ]
  },
  {
   "cell_type": "markdown",
   "metadata": {},
   "source": [
    "# Wybór macierzy\n",
    "Jako macierz testową wybraliśmy blokową macierz powstałą z macierzy typu rIGA, wygenerowanej za pomocą dołączonego skryptu w zestawie zadania (używjąc funkcji $riga$, z parametrami $2, 4, 2, 2$). Macierz bazowa ta ma rozmiar $49 \\times 49$, macierz wynikowa powstala z bloku $2^5 \\times 2^5$, co ostatecznie daje macierz o wymiarach $49 \\cdot 2^5 \\times 49 \\cdot 2^5$."
   ]
  },
  {
   "cell_type": "code",
   "execution_count": 16,
   "metadata": {},
   "outputs": [
    {
     "ename": "ModuleNotFoundError",
     "evalue": "No module named 'matplotlib'",
     "output_type": "error",
     "traceback": [
      "\u001b[1;31m---------------------------------------------------------------------------\u001b[0m",
      "\u001b[1;31mModuleNotFoundError\u001b[0m                       Traceback (most recent call last)",
      "\u001b[1;32m~\\AppData\\Local\\Temp/ipykernel_18848/328324305.py\u001b[0m in \u001b[0;36m<module>\u001b[1;34m\u001b[0m\n\u001b[0;32m      1\u001b[0m \u001b[1;32mimport\u001b[0m \u001b[0mnumpy\u001b[0m \u001b[1;32mas\u001b[0m \u001b[0mnp\u001b[0m\u001b[1;33m\u001b[0m\u001b[1;33m\u001b[0m\u001b[0m\n\u001b[1;32m----> 2\u001b[1;33m \u001b[1;32mimport\u001b[0m \u001b[0mmatplotlib\u001b[0m\u001b[1;33m.\u001b[0m\u001b[0mpyplot\u001b[0m \u001b[1;32mas\u001b[0m \u001b[0mplt\u001b[0m\u001b[1;33m\u001b[0m\u001b[1;33m\u001b[0m\u001b[0m\n\u001b[0m\u001b[0;32m      3\u001b[0m \u001b[1;32mimport\u001b[0m \u001b[0mpandas\u001b[0m \u001b[1;32mas\u001b[0m \u001b[0mpd\u001b[0m\u001b[1;33m\u001b[0m\u001b[1;33m\u001b[0m\u001b[0m\n",
      "\u001b[1;31mModuleNotFoundError\u001b[0m: No module named 'matplotlib'"
     ]
    }
   ],
   "source": [
    "import numpy as np\n",
    "import matplotlib.pyplot as plt\n",
    "import pandas as pd"
   ]
  },
  {
   "cell_type": "code",
   "execution_count": 6,
   "metadata": {},
   "outputs": [
    {
     "data": {
      "text/plain": [
       "array([   1,    2,    4,    8,   16,   32,   64,  128,  256,  512, 1024])"
      ]
     },
     "execution_count": 6,
     "metadata": {},
     "output_type": "execute_result"
    }
   ],
   "source": [
    "np.logspace(0, 10, 10 - 0 + 1, base=2).astype(int)"
   ]
  },
  {
   "cell_type": "code",
   "execution_count": 11,
   "metadata": {},
   "outputs": [],
   "source": [
    "def load_base_matrix():  \n",
    "    return np.genfromtxt('xd.csv', delimiter=',')\n",
    "    \n",
    "    \n",
    "def generate_matrix(q):\n",
    "    t = load_base_matrix()\n",
    "    return np.block([[t] * q] * q)"
   ]
  },
  {
   "cell_type": "code",
   "execution_count": 13,
   "metadata": {},
   "outputs": [],
   "source": [
    "q = 5\n",
    "A = generate_matrix(2**q)\n",
    "B = generate_matrix(2**q)\n",
    "AxB = A@B\n",
    "T = load_base_matrix()"
   ]
  },
  {
   "cell_type": "markdown",
   "metadata": {},
   "source": [
    "# Wizualizacja macierzy"
   ]
  },
  {
   "cell_type": "code",
   "execution_count": 14,
   "metadata": {},
   "outputs": [
    {
     "ename": "NameError",
     "evalue": "name 'plt' is not defined",
     "output_type": "error",
     "traceback": [
      "\u001b[1;31m---------------------------------------------------------------------------\u001b[0m",
      "\u001b[1;31mNameError\u001b[0m                                 Traceback (most recent call last)",
      "\u001b[1;32m~\\AppData\\Local\\Temp/ipykernel_18848/1533773008.py\u001b[0m in \u001b[0;36m<module>\u001b[1;34m\u001b[0m\n\u001b[1;32m----> 1\u001b[1;33m \u001b[0mfig\u001b[0m\u001b[1;33m,\u001b[0m \u001b[0maxs\u001b[0m \u001b[1;33m=\u001b[0m \u001b[0mplt\u001b[0m\u001b[1;33m.\u001b[0m\u001b[0msubplots\u001b[0m\u001b[1;33m(\u001b[0m\u001b[1;36m4\u001b[0m\u001b[1;33m,\u001b[0m \u001b[1;36m1\u001b[0m\u001b[1;33m,\u001b[0m \u001b[0mfigsize\u001b[0m \u001b[1;33m=\u001b[0m \u001b[1;33m(\u001b[0m\u001b[1;36m20\u001b[0m\u001b[1;33m,\u001b[0m \u001b[1;36m20\u001b[0m\u001b[1;33m)\u001b[0m\u001b[1;33m)\u001b[0m\u001b[1;33m\u001b[0m\u001b[1;33m\u001b[0m\u001b[0m\n\u001b[0m\u001b[0;32m      2\u001b[0m \u001b[0maxs\u001b[0m\u001b[1;33m[\u001b[0m\u001b[1;36m0\u001b[0m\u001b[1;33m]\u001b[0m\u001b[1;33m.\u001b[0m\u001b[0mspy\u001b[0m\u001b[1;33m(\u001b[0m\u001b[0mT\u001b[0m\u001b[1;33m)\u001b[0m\u001b[1;33m\u001b[0m\u001b[1;33m\u001b[0m\u001b[0m\n\u001b[0;32m      3\u001b[0m \u001b[0maxs\u001b[0m\u001b[1;33m[\u001b[0m\u001b[1;36m0\u001b[0m\u001b[1;33m]\u001b[0m\u001b[1;33m.\u001b[0m\u001b[0mset_title\u001b[0m\u001b[1;33m(\u001b[0m\u001b[1;34m'Macierz bazowa'\u001b[0m\u001b[1;33m,\u001b[0m \u001b[0mfontsize\u001b[0m\u001b[1;33m=\u001b[0m\u001b[1;36m30\u001b[0m\u001b[1;33m)\u001b[0m\u001b[1;33m\u001b[0m\u001b[1;33m\u001b[0m\u001b[0m\n\u001b[0;32m      4\u001b[0m \u001b[0maxs\u001b[0m\u001b[1;33m[\u001b[0m\u001b[1;36m1\u001b[0m\u001b[1;33m]\u001b[0m\u001b[1;33m.\u001b[0m\u001b[0mspy\u001b[0m\u001b[1;33m(\u001b[0m\u001b[0mA\u001b[0m\u001b[1;33m)\u001b[0m\u001b[1;33m\u001b[0m\u001b[1;33m\u001b[0m\u001b[0m\n\u001b[0;32m      5\u001b[0m \u001b[0maxs\u001b[0m\u001b[1;33m[\u001b[0m\u001b[1;36m1\u001b[0m\u001b[1;33m]\u001b[0m\u001b[1;33m.\u001b[0m\u001b[0mset_title\u001b[0m\u001b[1;33m(\u001b[0m\u001b[1;34m'Macierz $A$'\u001b[0m\u001b[1;33m,\u001b[0m \u001b[0mfontsize\u001b[0m\u001b[1;33m=\u001b[0m\u001b[1;36m30\u001b[0m\u001b[1;33m)\u001b[0m\u001b[1;33m\u001b[0m\u001b[1;33m\u001b[0m\u001b[0m\n",
      "\u001b[1;31mNameError\u001b[0m: name 'plt' is not defined"
     ]
    }
   ],
   "source": [
    "fig, axs = plt.subplots(4, 1, figsize = (20, 20))\n",
    "axs[0].spy(T)\n",
    "axs[0].set_title('Macierz bazowa', fontsize=30)\n",
    "axs[1].spy(A)\n",
    "axs[1].set_title('Macierz $A$', fontsize=30)\n",
    "axs[2].spy(B)\n",
    "axs[2].set_title('Macierz $B$', fontsize=30)\n",
    "axs[3].spy(AxB)\n",
    "axs[3].set_title('Macierz $A \\\\times B$', fontsize=30)"
   ]
  },
  {
   "cell_type": "markdown",
   "metadata": {},
   "source": [
    "# Program do mnożenia\n",
    "Moduł do mnożenia macierzy został napisany w języku C oraz skompilowany z użyciem flagi $-o3$, w celu jak największej optymalizacji kodu maszynowego. Program wczytuje dwie macierze z plików w formacie csv, mnoży je używając określonej kolejności pętli (dzieląc na bloki lub nie) i zapisuje wynik w kolejnym pliku. Dodatkowo moduł mierzy czasy mnożenia. Kod źródłowy programu można znaleźć w pliku $prog.c$.\n",
    "\n",
    "Dodatkowo została przygotowana minibiblioteka $iface.py$ wykorzystująca $prog.c$ i mogąca mnożyć macierze z biblioteki $numpy$, używając plików tymczasowych."
   ]
  },
  {
   "cell_type": "code",
   "execution_count": null,
   "metadata": {},
   "outputs": [],
   "source": [
    "from iface import calc"
   ]
  },
  {
   "cell_type": "markdown",
   "metadata": {},
   "source": [
    "# Testy kolejności pętli\n",
    "\n",
    "Testy zostały wykonane na wybranej macierzy, na każdej możliwej kolejności pętli."
   ]
  },
  {
   "cell_type": "code",
   "execution_count": 8,
   "metadata": {},
   "outputs": [],
   "source": [
    "orders = [\n",
    "    'ijp',\n",
    "    'ipj',\n",
    "    'jip',\n",
    "    'jpi',\n",
    "    'pij',\n",
    "    'pji'\n",
    "]\n",
    "\n",
    "def measure_time(A, B, orders=orders, tries=1):\n",
    "    res_df = []\n",
    "    for order in orders:\n",
    "        sum_time = 0\n",
    "        for _ in range(tries):\n",
    "            time, _ = calc(A, B, order)\n",
    "            sum_time = sum_time + time\n",
    "        avg_time = sum_time / tries\n",
    "        res_df.append([order, avg_time])\n",
    "        print(f'{order}: {avg_time}')\n",
    "    return pd.DataFrame(res_df, columns=('order', 'avg_time'))"
   ]
  },
  {
   "cell_type": "code",
   "execution_count": 23,
   "metadata": {},
   "outputs": [
    {
     "name": "stdout",
     "output_type": "stream",
     "text": [
      "ijp: 13.047\n",
      "ipj: 0.922\n",
      "jip: 12.566\n",
      "jpi: 49.646\n",
      "pij: 0.997\n",
      "pji: 56.91\n"
     ]
    },
    {
     "data": {
      "text/html": [
       "<div>\n",
       "<style scoped>\n",
       "    .dataframe tbody tr th:only-of-type {\n",
       "        vertical-align: middle;\n",
       "    }\n",
       "\n",
       "    .dataframe tbody tr th {\n",
       "        vertical-align: top;\n",
       "    }\n",
       "\n",
       "    .dataframe thead th {\n",
       "        text-align: right;\n",
       "    }\n",
       "</style>\n",
       "<table border=\"1\" class=\"dataframe\">\n",
       "  <thead>\n",
       "    <tr style=\"text-align: right;\">\n",
       "      <th></th>\n",
       "      <th>Order</th>\n",
       "      <th>Average time [s]</th>\n",
       "    </tr>\n",
       "  </thead>\n",
       "  <tbody>\n",
       "    <tr>\n",
       "      <th>0</th>\n",
       "      <td>ijp</td>\n",
       "      <td>13.047</td>\n",
       "    </tr>\n",
       "    <tr>\n",
       "      <th>1</th>\n",
       "      <td>ipj</td>\n",
       "      <td>0.922</td>\n",
       "    </tr>\n",
       "    <tr>\n",
       "      <th>2</th>\n",
       "      <td>jip</td>\n",
       "      <td>12.566</td>\n",
       "    </tr>\n",
       "    <tr>\n",
       "      <th>3</th>\n",
       "      <td>jpi</td>\n",
       "      <td>49.646</td>\n",
       "    </tr>\n",
       "    <tr>\n",
       "      <th>4</th>\n",
       "      <td>pij</td>\n",
       "      <td>0.997</td>\n",
       "    </tr>\n",
       "    <tr>\n",
       "      <th>5</th>\n",
       "      <td>pji</td>\n",
       "      <td>56.910</td>\n",
       "    </tr>\n",
       "  </tbody>\n",
       "</table>\n",
       "</div>"
      ],
      "text/plain": [
       "  Order  Average time [s]\n",
       "0   ijp            13.047\n",
       "1   ipj             0.922\n",
       "2   jip            12.566\n",
       "3   jpi            49.646\n",
       "4   pij             0.997\n",
       "5   pji            56.910"
      ]
     },
     "execution_count": 23,
     "metadata": {},
     "output_type": "execute_result"
    }
   ],
   "source": [
    "res_df = measure_time(A, B, tries=20)\n",
    "res_df.rename(columns={'order': 'Order', 'avg_time': 'Average time [s]'})"
   ]
  },
  {
   "cell_type": "code",
   "execution_count": 29,
   "metadata": {},
   "outputs": [],
   "source": [
    "matrix_size = '$49 \\\\cdot 2^{5} \\\\times 49 \\\\cdot 2^{5}$'"
   ]
  },
  {
   "cell_type": "code",
   "execution_count": 30,
   "metadata": {},
   "outputs": [
    {
     "data": {
      "text/plain": [
       "<BarContainer object of 6 artists>"
      ]
     },
     "execution_count": 30,
     "metadata": {},
     "output_type": "execute_result"
    },
    {
     "data": {
      "image/png": "[encoded data removed]",
      "text/plain": [
       "<Figure size 504x504 with 1 Axes>"
      ]
     },
     "metadata": {
      "needs_background": "light"
     },
     "output_type": "display_data"
    }
   ],
   "source": [
    "xs, ys = res_df['order'], res_df['avg_time']\n",
    "fig = plt.figure(figsize = (7, 7))\n",
    "plt.title(f'Czas mnozenia macierzy dla poszczególnych metod.\\nWielkość macierzy {matrix_size}', fontsize = 17)\n",
    "plt.xlabel('Metoda (kolejność indeksów)', fontsize = 20)\n",
    "plt.ylabel('Czas mnożenia [s]', fontsize = 20)\n",
    "plt.tick_params(axis='both', which='major', labelsize = 17)\n",
    "plt.ticklabel_format(axis='y', style='sci', scilimits=(0, 0), useMathText=True)\n",
    "# plt.yscale('log')\n",
    "plt.grid(zorder=-1)\n",
    "plt.bar(xs, ys, zorder=3)"
   ]
  },
  {
   "cell_type": "markdown",
   "metadata": {},
   "source": [
    "## Wnioski\n",
    "Najszybsze okazały się kolejności $ipj$ oraz $pij$, po nich $ijp$, $jip$, najwolniejsze były $jpi$ i $pji$.\n",
    "\n"
   ]
  },
  {
   "cell_type": "code",
   "execution_count": null,
   "metadata": {},
   "outputs": [],
   "source": [
    "def measure_blocks(A, B, order, ns_blocks, tries=1):\n",
    "    import math\n",
    "    n = len(A)\n",
    "    xs, avg_times = [], []\n",
    "    for n_blocks in ns_blocks:\n",
    "        sum_time = 0\n",
    "        for _ in range(tries):\n",
    "            block_size = math.ceil(n / n_blocks)\n",
    "            if n_blocks == 1:\n",
    "                block_size = 0\n",
    "            time, _ = calc(A, B, order, block_size)\n",
    "            sum_time = sum_time + time\n",
    "        avg_time = sum_time / tries\n",
    "        avg_times.append(avg_time)\n",
    "    return ns_blocks, avg_times"
   ]
  },
  {
   "cell_type": "code",
   "execution_count": 7,
   "metadata": {},
   "outputs": [],
   "source": [
    "# def measure_blocks_2pow(A, B, order, tries=1):\n",
    "#     import math\n",
    "#     n = len(A)\n",
    "#     xs, ys = [], []\n",
    "#     k = 1\n",
    "#     while k < n:\n",
    "#         sum_time = 0\n",
    "#         for _ in range(tries):\n",
    "#             block_size = math.ceil(n / k)\n",
    "#             if k == 1:\n",
    "#                 block_size = 0\n",
    "#             time, _ = calc(A, B, order, block_size)\n",
    "#             sum_time = sum_time + time\n",
    "#         avg_time = sum_time / tries\n",
    "#         xs.append(k)\n",
    "#         ys.append(avg_time)\n",
    "#         k *= 2\n",
    "#     return xs, ys\n",
    "def measure_blocks_2pow(A, B, order, tries=1):\n",
    "    ns_blocks = np.logspace(0, 10, 10 - 0 + 1, base=2).astype(int)\n",
    "    return measure_blocks(A, B, order, ns_blocks, tries)"
   ]
  },
  {
   "cell_type": "markdown",
   "metadata": {},
   "source": [
    "# Testy mnożenia blokowego\n",
    "Dla zadanej macierzy została wybrana kolejność pętli $ipj$.\n",
    "\n",
    "## Testy dla kolejncych potęg liczby 2\n",
    "\n",
    "Początkowo zostały przetestowane liczby bloków 1, 2, 4, 8, 16, ..., $\\frac{n}{2}$, w celu znalezienia wstępnej optymalnej liczby bloków. "
   ]
  },
  {
   "cell_type": "code",
   "execution_count": 33,
   "metadata": {},
   "outputs": [],
   "source": [
    "xs, ys = measure_blocks_2pow(A, B, 'ipj', tries=20)"
   ]
  },
  {
   "cell_type": "code",
   "execution_count": 35,
   "metadata": {},
   "outputs": [
    {
     "data": {
      "text/plain": [
       "<matplotlib.collections.PathCollection at 0x23163192340>"
      ]
     },
     "execution_count": 35,
     "metadata": {},
     "output_type": "execute_result"
    },
    {
     "data": {
      "image/png": "[encoded data removed]",
      "text/plain": [
       "<Figure size 504x504 with 1 Axes>"
      ]
     },
     "metadata": {
      "needs_background": "light"
     },
     "output_type": "display_data"
    }
   ],
   "source": [
    "fig = plt.figure(figsize = (7, 7))\n",
    "plt.title(f'Czas mnozenia macierzy wzgledem liczby bloków.\\nWielkość macierzy {matrix_size}', fontsize = 17)\n",
    "plt.xlabel('Liczba bloków', fontsize = 20)\n",
    "plt.ylabel('Czas mnożenia [s]', fontsize = 20)\n",
    "plt.xscale('log', base=2)\n",
    "plt.yscale('log')\n",
    "plt.tick_params(axis='both', which='major', labelsize = 13)\n",
    "plt.scatter(xs, ys)"
   ]
  },
  {
   "cell_type": "markdown",
   "metadata": {},
   "source": [
    "## Wnioski\n",
    "Wstępne testy wykazały, że optymalna liczba bloków jest pomiędzy $2$, a $8-16$ blokami. "
   ]
  },
  {
   "cell_type": "markdown",
   "metadata": {},
   "source": [
    "## Testy dla liczby bloków pomiędzy 2 a 16 "
   ]
  },
  {
   "cell_type": "code",
   "execution_count": 10,
   "metadata": {},
   "outputs": [],
   "source": [
    "def measure_blocks_lin(A, B, order, tries=1):\n",
    "    ns_blocks = np.arange(2, 16).astype(int)\n",
    "    return measure_blocks(A, B, order, ns_blocks, tries)\n",
    "# def measure_blocks_lin(A, B, order, tries=1):\n",
    "#     import math\n",
    "#     n = len(A)\n",
    "#     xs, ys = [], []\n",
    "#     k = 1\n",
    "#     for k in range(2, 16):\n",
    "#         sum_time = 0\n",
    "#         for _ in range(tries):\n",
    "#             block_size = math.ceil(n / k)\n",
    "#             time, _ = calc(A, B, order, block_size)\n",
    "#             sum_time = sum_time + time\n",
    "#         avg_time = sum_time / tries\n",
    "#         xs.append(k)\n",
    "#         ys.append(avg_time)\n",
    "#         k *= 2\n",
    "#     return xs, ys"
   ]
  },
  {
   "cell_type": "code",
   "execution_count": 38,
   "metadata": {},
   "outputs": [],
   "source": [
    "xs, ys = measure_blocks_lin(A, B, 'ipj', tries=20)"
   ]
  },
  {
   "cell_type": "code",
   "execution_count": 41,
   "metadata": {},
   "outputs": [
    {
     "data": {
      "text/plain": [
       "<matplotlib.collections.PathCollection at 0x231638b1be0>"
      ]
     },
     "execution_count": 41,
     "metadata": {},
     "output_type": "execute_result"
    },
    {
     "data": {
      "image/png": "[encoded data removed]",
      "text/plain": [
       "<Figure size 504x504 with 1 Axes>"
      ]
     },
     "metadata": {
      "needs_background": "light"
     },
     "output_type": "display_data"
    }
   ],
   "source": [
    "fig = plt.figure(figsize = (7, 7))\n",
    "plt.title(f'Czas mnozenia macierzy wzgledem liczby bloków.\\nWielkość macierzy {matrix_size}', fontsize = 17)\n",
    "plt.xlabel('Liczba bloków', fontsize = 20)\n",
    "plt.ylabel('Czas mnożenia [s]', fontsize = 20)\n",
    "# plt.xscale('log', base=2)\n",
    "# plt.yscale('log')\n",
    "plt.tick_params(axis='both', which='major', labelsize = 13)\n",
    "plt.scatter(xs, ys)"
   ]
  },
  {
   "cell_type": "markdown",
   "metadata": {},
   "source": [
    "## Wnioski\n",
    "Dla podanego zakresu ciężko stwierdzić, która liczba bloków jest najbardziej optymalna. Mimo wielokrotnego wykonania testów, wyniki zawsze podlegały znacznemu błędowi statystycznemu i były w znacznym stopniu zależne od wahań wydajności procesora. Udało się tylko ustalić, że optymalna licba bloków przypada pomiędzy $3$ a $16$."
   ]
  },
  {
   "cell_type": "markdown",
   "metadata": {},
   "source": [
    "# Podsumowanie\n",
    "\n",
    "Najbadziej wydajną kolejnością pętli podczas mnożenia macierzy okazały się kolejności $ipj$ i $pij$, odstając znacząco od reszty permutacji pętli. Dla wybranej metody $ipj$ zostały wykonane testy liczby podziałów bloków, dla których mnożenie jest jeszcze szybsze, udało się ustalić, że ta liczba leży pomiędzy $2$ a $16$ bloków podziałów.\n",
    "\n",
    "Niezależnie od metody, każde mnożenie wymagalo $3 \\cdot m \\cdot r \\cdot t = 3 \\cdot n^3 \\cdot q^3$, gdzie $n=49$, $q=2^5$, co daje ostatecznie $11,565,367,296$ operacji zmiennoprzecinkowych."
   ]
  }
 ],
 "metadata": {
  "interpreter": {
   "hash": "b5af4e7021b60a30a258b625bd7746f2eb1f43a347d8cf3e00db91026a7212f8"
  },
  "kernelspec": {
   "display_name": "Python 3.9.6 64-bit ('venv': venv)",
   "name": "python3"
  },
  "language_info": {
   "codemirror_mode": {
    "name": "ipython",
    "version": 3
   },
   "file_extension": ".py",
   "mimetype": "text/x-python",
   "name": "python",
   "nbconvert_exporter": "python",
   "pygments_lexer": "ipython3",
   "version": "3.9.6"
  }
 },
 "nbformat": 4,
 "nbformat_minor": 2
}
